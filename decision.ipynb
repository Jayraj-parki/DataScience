{
 "cells": [
  {
   "cell_type": "code",
   "execution_count": 1,
   "id": "40140b48",
   "metadata": {},
   "outputs": [],
   "source": [
    "import numpy as np # linear algebra\n",
    "import pandas as pd # data processing, CSV file I/O (e.g. pd.read_csv)\n",
    "import matplotlib.pyplot as plt\n",
    "import seaborn as sb\n",
    "sb.set_theme(style='whitegrid')\n",
    "\n",
    "from sklearn.model_selection import train_test_split\n",
    "from sklearn.model_selection import KFold\n",
    "from sklearn.model_selection import cross_val_score\n",
    "from sklearn.model_selection import GridSearchCV\n",
    "from sklearn.ensemble import RandomForestClassifier\n",
    "\n",
    "# Metrics to evaluate performance\n",
    "from sklearn.metrics import classification_report\n",
    "from sklearn.metrics import confusion_matrix\n",
    "from sklearn.metrics import accuracy_score"
   ]
  },
  {
   "cell_type": "code",
   "execution_count": 2,
   "id": "c2090e0b",
   "metadata": {},
   "outputs": [
    {
     "data": {
      "text/html": [
       "<div>\n",
       "<style scoped>\n",
       "    .dataframe tbody tr th:only-of-type {\n",
       "        vertical-align: middle;\n",
       "    }\n",
       "\n",
       "    .dataframe tbody tr th {\n",
       "        vertical-align: top;\n",
       "    }\n",
       "\n",
       "    .dataframe thead th {\n",
       "        text-align: right;\n",
       "    }\n",
       "</style>\n",
       "<table border=\"1\" class=\"dataframe\">\n",
       "  <thead>\n",
       "    <tr style=\"text-align: right;\">\n",
       "      <th></th>\n",
       "      <th>Gender</th>\n",
       "      <th>Hemoglobin</th>\n",
       "      <th>MCH</th>\n",
       "      <th>MCHC</th>\n",
       "      <th>MCV</th>\n",
       "      <th>Result</th>\n",
       "    </tr>\n",
       "  </thead>\n",
       "  <tbody>\n",
       "    <tr>\n",
       "      <th>0</th>\n",
       "      <td>0</td>\n",
       "      <td>8.88</td>\n",
       "      <td>38.37</td>\n",
       "      <td>39.64</td>\n",
       "      <td>71.17</td>\n",
       "      <td>1</td>\n",
       "    </tr>\n",
       "    <tr>\n",
       "      <th>1</th>\n",
       "      <td>1</td>\n",
       "      <td>10.34</td>\n",
       "      <td>26.27</td>\n",
       "      <td>37.24</td>\n",
       "      <td>78.18</td>\n",
       "      <td>1</td>\n",
       "    </tr>\n",
       "    <tr>\n",
       "      <th>2</th>\n",
       "      <td>0</td>\n",
       "      <td>11.33</td>\n",
       "      <td>29.23</td>\n",
       "      <td>35.54</td>\n",
       "      <td>80.03</td>\n",
       "      <td>0</td>\n",
       "    </tr>\n",
       "    <tr>\n",
       "      <th>3</th>\n",
       "      <td>1</td>\n",
       "      <td>16.55</td>\n",
       "      <td>27.12</td>\n",
       "      <td>34.12</td>\n",
       "      <td>91.35</td>\n",
       "      <td>0</td>\n",
       "    </tr>\n",
       "    <tr>\n",
       "      <th>4</th>\n",
       "      <td>0</td>\n",
       "      <td>10.40</td>\n",
       "      <td>23.32</td>\n",
       "      <td>38.49</td>\n",
       "      <td>105.46</td>\n",
       "      <td>1</td>\n",
       "    </tr>\n",
       "    <tr>\n",
       "      <th>5</th>\n",
       "      <td>1</td>\n",
       "      <td>18.59</td>\n",
       "      <td>21.38</td>\n",
       "      <td>32.55</td>\n",
       "      <td>101.33</td>\n",
       "      <td>1</td>\n",
       "    </tr>\n",
       "    <tr>\n",
       "      <th>6</th>\n",
       "      <td>0</td>\n",
       "      <td>12.27</td>\n",
       "      <td>31.41</td>\n",
       "      <td>34.22</td>\n",
       "      <td>99.17</td>\n",
       "      <td>0</td>\n",
       "    </tr>\n",
       "    <tr>\n",
       "      <th>7</th>\n",
       "      <td>1</td>\n",
       "      <td>16.72</td>\n",
       "      <td>28.25</td>\n",
       "      <td>35.20</td>\n",
       "      <td>82.39</td>\n",
       "      <td>0</td>\n",
       "    </tr>\n",
       "    <tr>\n",
       "      <th>8</th>\n",
       "      <td>0</td>\n",
       "      <td>5.98</td>\n",
       "      <td>10.60</td>\n",
       "      <td>40.10</td>\n",
       "      <td>101.51</td>\n",
       "      <td>1</td>\n",
       "    </tr>\n",
       "    <tr>\n",
       "      <th>9</th>\n",
       "      <td>1</td>\n",
       "      <td>6.52</td>\n",
       "      <td>38.49</td>\n",
       "      <td>36.16</td>\n",
       "      <td>50.51</td>\n",
       "      <td>1</td>\n",
       "    </tr>\n",
       "  </tbody>\n",
       "</table>\n",
       "</div>"
      ],
      "text/plain": [
       "   Gender  Hemoglobin    MCH   MCHC     MCV  Result\n",
       "0       0        8.88  38.37  39.64   71.17       1\n",
       "1       1       10.34  26.27  37.24   78.18       1\n",
       "2       0       11.33  29.23  35.54   80.03       0\n",
       "3       1       16.55  27.12  34.12   91.35       0\n",
       "4       0       10.40  23.32  38.49  105.46       1\n",
       "5       1       18.59  21.38  32.55  101.33       1\n",
       "6       0       12.27  31.41  34.22   99.17       0\n",
       "7       1       16.72  28.25  35.20   82.39       0\n",
       "8       0        5.98  10.60  40.10  101.51       1\n",
       "9       1        6.52  38.49  36.16   50.51       1"
      ]
     },
     "execution_count": 2,
     "metadata": {},
     "output_type": "execute_result"
    }
   ],
   "source": [
    "df = pd.read_csv('./anemiaDataset.csv')\n",
    "df.head(10)"
   ]
  },
  {
   "cell_type": "code",
   "execution_count": 3,
   "id": "74493cf5",
   "metadata": {},
   "outputs": [
    {
     "data": {
      "text/plain": [
       "Gender        0\n",
       "Hemoglobin    0\n",
       "MCH           0\n",
       "MCHC          0\n",
       "MCV           0\n",
       "Result        0\n",
       "dtype: int64"
      ]
     },
     "execution_count": 3,
     "metadata": {},
     "output_type": "execute_result"
    }
   ],
   "source": [
    "# Check if there is any missing value\n",
    "df.isnull().sum()"
   ]
  },
  {
   "cell_type": "code",
   "execution_count": 9,
   "id": "a92decfe",
   "metadata": {},
   "outputs": [
    {
     "data": {
      "text/plain": [
       "Gender        category\n",
       "Hemoglobin     float64\n",
       "MCH            float64\n",
       "MCHC           float64\n",
       "MCV            float64\n",
       "Result        category\n",
       "dtype: object"
      ]
     },
     "execution_count": 9,
     "metadata": {},
     "output_type": "execute_result"
    }
   ],
   "source": [
    "# Check data types of each columns\n",
    "df.dtypes"
   ]
  },
  {
   "cell_type": "code",
   "execution_count": 10,
   "id": "ed448ee8",
   "metadata": {},
   "outputs": [],
   "source": [
    "# Check data types of each columns\n",
    "# df.dtypes\n",
    "\n",
    "# # Convert Gender and Result into objects\n",
    "# df[['Gender', 'Result']] = df[['Gender', 'Result']].astype('category')\n",
    "# cat_features = ['Gender', 'Result'] # Categorical columns(features)\n",
    "# nbr_features = df.columns.drop(cat_features) # Numerical columns(features)\n",
    "# df.dtypes\n",
    "\n",
    "# # Description of the dataset\n",
    "# pd.set_option('display.precision', 1)\n",
    "# df.describe(include='all')\n",
    "\n",
    "\n",
    "# # Check if the dataset is balanced\n",
    "# sb.countplot(x=df['Result'])\n",
    "\n",
    "# sb.countplot(x=df['Result'], hue=df['Gender'])\n",
    "\n",
    "# # Check the distribution of the numeric values\n",
    "# df[nbr_features].plot(kind='density', subplots=True, layout=(1,4), sharex=False, legend=True, \n",
    "#                                             fontsize=1, figsize=(12,4))\n",
    "# plt.show()"
   ]
  },
  {
   "cell_type": "code",
   "execution_count": 11,
   "id": "059be6e6",
   "metadata": {},
   "outputs": [],
   "source": [
    "# Check if there is any outlier values in any of the features\n",
    "# df[nbr_features].plot(kind='box', subplots=True, layout=(1,4), sharex=False, legend=True,\n",
    "#                      fontsize=1, figsize=(12,4))\n",
    "# plt.show()"
   ]
  },
  {
   "cell_type": "code",
   "execution_count": 12,
   "id": "970fc410",
   "metadata": {},
   "outputs": [],
   "source": [
    "# Let's try to findout the relation between the Result and the numeric features\n",
    "# fig, ax = plt.subplots(2, 2, figsize=(12, 12))\n",
    "# sb.histplot(data=df, x=df['Hemoglobin'], hue=df['Result'], kde=True, ax=ax[0,0])\n",
    "# sb.histplot(data=df, x=df['MCH'], hue=df['Result'], kde=True, ax=ax[0,1])\n",
    "# sb.histplot(data=df, x=df['MCHC'], hue=df['Result'], kde=True, ax=ax[1,0])\n",
    "# sb.histplot(data=df, x=df['MCV'], hue=df['Result'], kde=True, ax=ax[1,1])\n",
    "# fig.suptitle('Result and the Numetic Features', fontsize=14, y=0.93)\n",
    "# plt.show()"
   ]
  },
  {
   "cell_type": "code",
   "execution_count": 13,
   "id": "72e19e4b",
   "metadata": {},
   "outputs": [],
   "source": [
    "x = df.drop('Result', axis=1)\n",
    "y = df['Result']\n",
    "test_size = 0.2\n",
    "seed = 101\n",
    "x_train, x_test, y_train, y_test = train_test_split(x, y, test_size=test_size, random_state=seed)\n"
   ]
  },
  {
   "cell_type": "code",
   "execution_count": 31,
   "id": "5032aecb",
   "metadata": {},
   "outputs": [
    {
     "name": "stdout",
     "output_type": "stream",
     "text": [
      "[0 1 1 ... 1 0 1]\n",
      "Decision Tree: 0.9940833333333333\n"
     ]
    }
   ],
   "source": [
    "# random = RandomForestClassifier(n_estimators=100)\n",
    "# random.fit(x_train,y_train)\n",
    "# ran_pred = random.predict(x_test)\n",
    "# # print(ran_pred)\n",
    "# accuracy_scorerf = accuracy_score(y_test, ran_pred)\n",
    "# print(\"Random Forest :\", accuracy_scorerf)\n",
    "from sklearn.preprocessing import normalize\n",
    "\n",
    "from sklearn.tree import DecisionTreeClassifier\n",
    "\n",
    "x_train = normalize(x_train)\n",
    "x_test = normalize(x_test)\n",
    "x = normalize(x)\n",
    "decision = DecisionTreeClassifier()\n",
    "decision.fit(x_train, y_train)\n",
    "dt_pred = decision.predict(x_test)\n",
    "print(dt_pred)\n",
    "accuracy_scoredt= accuracy_score(y_test, dt_pred)\n",
    "print(\"Decision Tree:\", accuracy_scoredt)"
   ]
  },
  {
   "cell_type": "code",
   "execution_count": 32,
   "id": "3a08a03b",
   "metadata": {
    "scrolled": true
   },
   "outputs": [
    {
     "name": "stdout",
     "output_type": "stream",
     "text": [
      "   Gender  Hemoglobin   MCH  MCHC   MCV  Predicted Result\n",
      "0       0         6.9  28.1  32.5  94.6                 1\n",
      "1       1        11.8  16.3  30.9  78.7                 1\n",
      "2       1        11.0  26.0  32.2  98.9                 1\n",
      "3       1        11.0  25.2  30.9  83.2                 1\n",
      "4       0        10.7  21.3  29.1  78.7                 1\n",
      "5       1        16.2  17.2  32.2  78.4                 1\n",
      "6       0        11.0  29.2  35.0  80.0                 1\n"
     ]
    },
    {
     "name": "stderr",
     "output_type": "stream",
     "text": [
      "C:\\Users\\Jayraj\\anaconda3\\lib\\site-packages\\sklearn\\base.py:443: UserWarning: X has feature names, but DecisionTreeClassifier was fitted without feature names\n",
      "  warnings.warn(\n"
     ]
    }
   ],
   "source": [
    "new_patients = {'Gender':[0,1,1,1,0,1,0],\n",
    "                'Hemoglobin':[6.9,11.8,11,11,10.7,16.2,11],\n",
    "                'MCH': [28.1,16.3,26,25.2,21.3,17.2,29.23],\n",
    "                'MCHC': [32.5,30.9,32.2,30.9,29.1,32.2,35],\n",
    "                'MCV' : [94.6,78.7,98.9,83.2,78.7,78.4,80]}\n",
    "df2 = pd.DataFrame(new_patients,columns=['Gender','Hemoglobin','MCH','MCHC','MCV'])\n",
    "y_pred=decision.predict(df2)\n",
    "df2['Predicted Result'] = y_pred\n",
    "print (df2)"
   ]
  },
  {
   "cell_type": "code",
   "execution_count": null,
   "id": "87423c68",
   "metadata": {},
   "outputs": [],
   "source": []
  },
  {
   "cell_type": "code",
   "execution_count": null,
   "id": "1d159a28",
   "metadata": {},
   "outputs": [],
   "source": []
  },
  {
   "cell_type": "code",
   "execution_count": 36,
   "id": "1c6427d4",
   "metadata": {},
   "outputs": [],
   "source": [
    "import pickle\n",
    "pickle.dump(decision, open('decision.pkl', 'wb'))\n"
   ]
  },
  {
   "cell_type": "code",
   "execution_count": 37,
   "id": "29052fb7",
   "metadata": {},
   "outputs": [],
   "source": [
    "# Loading model\n",
    "loaded_model = pickle.load(open('decision.pkl', 'rb'))\n"
   ]
  },
  {
   "cell_type": "code",
   "execution_count": 38,
   "id": "5f76f127",
   "metadata": {},
   "outputs": [
    {
     "name": "stdout",
     "output_type": "stream",
     "text": [
      "0.9940833333333333\n"
     ]
    }
   ],
   "source": [
    "result = loaded_model.score(x_test,y_test)\n",
    "print(result)"
   ]
  },
  {
   "cell_type": "code",
   "execution_count": null,
   "id": "fb187fe0",
   "metadata": {},
   "outputs": [],
   "source": []
  }
 ],
 "metadata": {
  "kernelspec": {
   "display_name": "Python 3 (ipykernel)",
   "language": "python",
   "name": "python3"
  },
  "language_info": {
   "codemirror_mode": {
    "name": "ipython",
    "version": 3
   },
   "file_extension": ".py",
   "mimetype": "text/x-python",
   "name": "python",
   "nbconvert_exporter": "python",
   "pygments_lexer": "ipython3",
   "version": "3.9.13"
  }
 },
 "nbformat": 4,
 "nbformat_minor": 5
}
